{
 "cells": [
  {
   "cell_type": "code",
   "execution_count": 1,
   "id": "260a5188",
   "metadata": {},
   "outputs": [
    {
     "name": "stdout",
     "output_type": "stream",
     "text": [
      "Requirement already satisfied: category_encoders in /home/ec2-user/anaconda3/envs/python3/lib/python3.10/site-packages (2.6.3)\n",
      "Requirement already satisfied: numpy>=1.14.0 in /home/ec2-user/anaconda3/envs/python3/lib/python3.10/site-packages (from category_encoders) (1.22.3)\n",
      "Requirement already satisfied: scikit-learn>=0.20.0 in /home/ec2-user/anaconda3/envs/python3/lib/python3.10/site-packages (from category_encoders) (1.3.0)\n",
      "Requirement already satisfied: scipy>=1.0.0 in /home/ec2-user/anaconda3/envs/python3/lib/python3.10/site-packages (from category_encoders) (1.11.1)\n",
      "Requirement already satisfied: statsmodels>=0.9.0 in /home/ec2-user/anaconda3/envs/python3/lib/python3.10/site-packages (from category_encoders) (0.14.0)\n",
      "Requirement already satisfied: pandas>=1.0.5 in /home/ec2-user/anaconda3/envs/python3/lib/python3.10/site-packages (from category_encoders) (2.0.3)\n",
      "Requirement already satisfied: patsy>=0.5.1 in /home/ec2-user/anaconda3/envs/python3/lib/python3.10/site-packages (from category_encoders) (0.5.3)\n",
      "Requirement already satisfied: python-dateutil>=2.8.2 in /home/ec2-user/anaconda3/envs/python3/lib/python3.10/site-packages (from pandas>=1.0.5->category_encoders) (2.8.2)\n",
      "Requirement already satisfied: pytz>=2020.1 in /home/ec2-user/anaconda3/envs/python3/lib/python3.10/site-packages (from pandas>=1.0.5->category_encoders) (2023.3)\n",
      "Requirement already satisfied: tzdata>=2022.1 in /home/ec2-user/anaconda3/envs/python3/lib/python3.10/site-packages (from pandas>=1.0.5->category_encoders) (2023.3)\n",
      "Requirement already satisfied: six in /home/ec2-user/anaconda3/envs/python3/lib/python3.10/site-packages (from patsy>=0.5.1->category_encoders) (1.16.0)\n",
      "Requirement already satisfied: joblib>=1.1.1 in /home/ec2-user/anaconda3/envs/python3/lib/python3.10/site-packages (from scikit-learn>=0.20.0->category_encoders) (1.3.0)\n",
      "Requirement already satisfied: threadpoolctl>=2.0.0 in /home/ec2-user/anaconda3/envs/python3/lib/python3.10/site-packages (from scikit-learn>=0.20.0->category_encoders) (3.2.0)\n",
      "Requirement already satisfied: packaging>=21.3 in /home/ec2-user/anaconda3/envs/python3/lib/python3.10/site-packages (from statsmodels>=0.9.0->category_encoders) (21.3)\n",
      "Requirement already satisfied: pyparsing!=3.0.5,>=2.0.2 in /home/ec2-user/anaconda3/envs/python3/lib/python3.10/site-packages (from packaging>=21.3->statsmodels>=0.9.0->category_encoders) (3.0.9)\n"
     ]
    }
   ],
   "source": [
    "!pip install category_encoders"
   ]
  },
  {
   "cell_type": "code",
   "execution_count": 2,
   "id": "cbbe1173",
   "metadata": {},
   "outputs": [],
   "source": [
    "import numpy as np\n",
    "import pandas as pd\n",
    "import inflection\n",
    "\n",
    "from category_encoders       import OneHotEncoder\n",
    "from sklearn.linear_model    import LogisticRegression\n",
    "from sklearn.preprocessing   import MinMaxScaler\n",
    "from sklearn.model_selection import train_test_split, StratifiedKFold\n",
    "from sklearn.metrics         import balanced_accuracy_score, precision_score, classification_report\n",
    "from sklearn.metrics         import recall_score, f1_score, make_scorer, cohen_kappa_score"
   ]
  },
  {
   "cell_type": "code",
   "execution_count": 3,
   "id": "ff0db036",
   "metadata": {},
   "outputs": [],
   "source": [
    "def ml_scores(model_name, y_true, y_pred):\n",
    "    \"\"\"\n",
    "    Calculate and return various classification metrics for a machine learning model's performance.\n",
    "\n",
    "    Parameters:\n",
    "    - model_name (str): Name or identifier for the machine learning model.\n",
    "    - y_true (array-like): True labels for the data.\n",
    "    - y_pred (array-like): Predicted labels for the data.\n",
    "\n",
    "    Returns:\n",
    "    - pandas.DataFrame: A DataFrame containing the following metrics:\n",
    "        - 'Balanced Accuracy': Balanced accuracy score rounded to 3 decimal places.\n",
    "        - 'Precision': Precision score rounded to 3 decimal places.\n",
    "        - 'Recall': Recall score rounded to 3 decimal places.\n",
    "        - 'F1': F1 score rounded to 3 decimal places.\n",
    "        - 'Kappa': Cohen's kappa score rounded to 3 decimal places.\n",
    "    \n",
    "    This function calculates and reports commonly used classification metrics such as balanced accuracy, precision, recall, F1 score,\n",
    "    and Cohen's kappa score for evaluating the performance of a classification model. The results are returned as a DataFrame with the\n",
    "    model's name as the index.\n",
    "\n",
    "    Example usage:\n",
    "    >>> y_true = [0, 1, 1, 0, 1]\n",
    "    >>> y_pred = [0, 1, 0, 0, 1]\n",
    "    >>> model_name = 'MyClassifier'\n",
    "    >>> metrics_df = ml_scores(model_name, y_true, y_pred)\n",
    "    >>> print(metrics_df)\n",
    "               Balanced Accuracy  Precision  Recall     F1  Kappa\n",
    "    MyClassifier             0.75        1.0     0.5  0.667   0.4\n",
    "    \"\"\"\n",
    "    \n",
    "    accuracy = balanced_accuracy_score(y_true, y_pred)\n",
    "    precision = precision_score(y_true, y_pred)\n",
    "    recall = recall_score(y_true, y_pred)\n",
    "    f1 = f1_score(y_true, y_pred)\n",
    "    kappa = cohen_kappa_score(y_true, y_pred)\n",
    "    \n",
    "    return pd.DataFrame({'Balanced Accuracy': np.round(accuracy, 3), \n",
    "                         'Precision': np.round(precision, 3), \n",
    "                         'Recall': np.round(recall, 3),\n",
    "                         'F1': np.round(f1, 3),\n",
    "                         'Kappa': np.round(kappa, 3)}, \n",
    "                        index=[model_name])"
   ]
  },
  {
   "cell_type": "code",
   "execution_count": 4,
   "id": "aa92066c",
   "metadata": {},
   "outputs": [],
   "source": [
    "def ml_cv_results(model_name, model, x, y, verbose=1):\n",
    "    \"\"\"\n",
    "    Perform cross-validation and return the mean and standard deviation of various classification metrics for a machine learning model.\n",
    "\n",
    "    Parameters:\n",
    "    - model_name (str): Name or identifier for the machine learning model.\n",
    "    - model (object): The machine learning model to be evaluated.\n",
    "    - x (pd.DataFrame): Input features for the data.\n",
    "    - y (pd.Series): True labels for the data.\n",
    "    - verbose (int, optional): Verbosity level. If 1, it will print fold information. Default is 1.\n",
    "\n",
    "    Returns:\n",
    "    - pandas.DataFrame: A DataFrame containing the mean and standard deviation of the following metrics across folds:\n",
    "        - 'Balanced Accuracy': Mean and standard deviation as \"{mean} +/- {std}\".\n",
    "        - 'Precision': Mean and standard deviation as \"{mean} +/- {std}\".\n",
    "        - 'Recall': Mean and standard deviation as \"{mean} +/- {std}\".\n",
    "        - 'F1': Mean and standard deviation as \"{mean} +/- {std}\".\n",
    "        - 'Kappa': Mean and standard deviation as \"{mean} +/- {std}\".\n",
    "    \n",
    "    This function performs cross-validation to evaluate the performance of a classification model. It calculates and reports the mean and\n",
    "    standard deviation of metrics such as balanced accuracy, precision, recall, F1 score, and Cohen's kappa score across different folds.\n",
    "\n",
    "    Example usage:\n",
    "    >>> from sklearn.linear_model import LogisticRegression\n",
    "    >>> from sklearn.datasets import load_iris\n",
    "    >>> data = load_iris()\n",
    "    >>> x = pd.DataFrame(data.data, columns=data.feature_names)\n",
    "    >>> y = pd.Series(data.target)\n",
    "    >>> model = LogisticRegression()\n",
    "    >>> model_name = 'LogisticRegression'\n",
    "    >>> cv_results = ml_cv_results(model_name, model, x, y)\n",
    "    >>> print(cv_results)\n",
    "                       Balanced Accuracy         Precision            Recall                 F1              Kappa\n",
    "    LogisticRegression  0.966 +/- 0.032  0.967 +/- 0.053  0.967 +/- 0.053  0.966 +/- 0.053  0.951 +/- 0.072\n",
    "    \"\"\"\n",
    "    \n",
    "    '''initial'''\n",
    "    balanced_accuracies = []\n",
    "    precisions = []\n",
    "    recalls = []\n",
    "    f1s = []\n",
    "    kappas = []\n",
    "    \n",
    "    mm = MinMaxScaler()\n",
    "    \n",
    "    x_ = x.to_numpy()\n",
    "    y_ = y.to_numpy()\n",
    "    \n",
    "    count = 0\n",
    "    \n",
    "    '''cross-validation'''\n",
    "    skf = StratifiedKFold(n_splits=5, shuffle=True)\n",
    "    \n",
    "    for index_train, index_test in skf.split(x_, y_):\n",
    "        ## Showing the Fold\n",
    "        if verbose > 0:\n",
    "            count += 1\n",
    "            print('Fold K=%i' % (count))\n",
    "    \n",
    "        ## selecting train and test\n",
    "        x_train, x_test = x.iloc[index_train], x.iloc[index_test]\n",
    "        y_train, y_test = y.iloc[index_train], y.iloc[index_test]\n",
    "        \n",
    "        ## applying the scale\n",
    "        x_train = mm.fit_transform(x_train)\n",
    "        x_test = mm.transform(x_test)\n",
    "    \n",
    "        ## training the model\n",
    "        model.fit(x_train, y_train)\n",
    "        y_pred = model.predict(x_test)\n",
    "        \n",
    "        ## saving the metrics\n",
    "        balanced_accuracies.append(balanced_accuracy_score(y_test, y_pred))\n",
    "        precisions.append(precision_score(y_test, y_pred))\n",
    "        recalls.append(recall_score(y_test, y_pred))\n",
    "        f1s.append(f1_score(y_test, y_pred))\n",
    "        kappas.append(cohen_kappa_score(y_test, y_pred))\n",
    "        \n",
    "        \n",
    "    '''results'''    \n",
    "    accuracy_mean, accuracy_std = np.round(np.mean(balanced_accuracies), 3), np.round(np.std(balanced_accuracies), 3)\n",
    "    precision_mean, precision_std = np.round(np.mean(precisions), 3), np.round(np.std(precisions), 3)\n",
    "    recall_mean, recall_std = np.round(np.mean(recalls), 3), np.round(np.std(recalls), 3)\n",
    "    f1_mean, f1_std = np.round(np.mean(f1s), 3), np.round(np.std(f1s), 3)\n",
    "    kappa_mean, kappa_std = np.round(np.mean(kappas), 3), np.round(np.std(kappas), 3)\n",
    "    \n",
    "    ## saving the results in a dataframe\n",
    "    return pd.DataFrame({\"Balanced Accuracy\": \"{} +/- {}\".format(accuracy_mean, accuracy_std),\n",
    "                        \"Precision\": \"{} +/- {}\".format(precision_mean, precision_std),\n",
    "                        \"Recall\": \"{} +/- {}\".format(recall_mean, recall_std),\n",
    "                        \"F1\": \"{} +/- {}\".format(f1_mean, f1_std),\n",
    "                        \"Kappa\": \"{} +/- {}\".format(kappa_mean, kappa_std)},\n",
    "                       index=[model_name])"
   ]
  },
  {
   "cell_type": "markdown",
   "id": "f17bb97b",
   "metadata": {},
   "source": [
    "## Data Load"
   ]
  },
  {
   "cell_type": "code",
   "execution_count": 5,
   "id": "e96bad79",
   "metadata": {},
   "outputs": [
    {
     "name": "stdout",
     "output_type": "stream",
     "text": [
      "   step      type    amount     nameOrig  oldbalanceOrg  newbalanceOrig  \\\n",
      "0     1   PAYMENT   9839.64  C1231006815       170136.0       160296.36   \n",
      "1     1   PAYMENT   1864.28  C1666544295        21249.0        19384.72   \n",
      "2     1  TRANSFER    181.00  C1305486145          181.0            0.00   \n",
      "3     1  CASH_OUT    181.00   C840083671          181.0            0.00   \n",
      "4     1   PAYMENT  11668.14  C2048537720        41554.0        29885.86   \n",
      "\n",
      "      nameDest  oldbalanceDest  newbalanceDest  isFraud  isFlaggedFraud  \n",
      "0  M1979787155             0.0             0.0        0               0  \n",
      "1  M2044282225             0.0             0.0        0               0  \n",
      "2   C553264065             0.0             0.0        1               0  \n",
      "3    C38997010         21182.0             0.0        1               0  \n",
      "4  M1230701703             0.0             0.0        0               0  \n"
     ]
    }
   ],
   "source": [
    "# Load the dataset from S3\n",
    "'''\n",
    "step: represents a unit of time where 1 step equals 1 hour\n",
    "type: type of online transaction\n",
    "amount: the amount of the transaction\n",
    "nameOrig: customer starting the transaction\n",
    "oldbalanceOrg: balance before the transaction\n",
    "newbalanceOrig: balance after the transaction\n",
    "nameDest: recipient of the transaction\n",
    "oldbalanceDest: initial balance of recipient before the transaction\n",
    "newbalanceDest: the new balance of recipient after the transaction\n",
    "isFraud: fraud transaction\n",
    "'''\n",
    "s3_data_location = 's3://archana-training-data/onlinefraud.csv'\n",
    "data = pd.read_csv(s3_data_location)\n",
    "print(data.head())"
   ]
  },
  {
   "cell_type": "markdown",
   "id": "e9bcf9fa",
   "metadata": {},
   "source": [
    "## Data Processing"
   ]
  },
  {
   "cell_type": "code",
   "execution_count": 6,
   "id": "7795ec99",
   "metadata": {},
   "outputs": [],
   "source": [
    "# Columns Rename\n",
    "cols_old = data.columns.tolist()\n",
    "\n",
    "snakecase = lambda x: inflection.underscore(x)\n",
    "cols_new = list(map(snakecase, cols_old))\n",
    "\n",
    "data.columns = cols_new"
   ]
  },
  {
   "cell_type": "code",
   "execution_count": 7,
   "id": "17f6f1d9",
   "metadata": {},
   "outputs": [],
   "source": [
    "# Change Data Type\n",
    "data['is_fraud'] = data['is_fraud'].map({1: 'yes', 0: 'no'})\n",
    "data['is_flagged_fraud'] = data['is_flagged_fraud'].map({1: 'yes', 0: 'no'})"
   ]
  },
  {
   "cell_type": "code",
   "execution_count": 8,
   "id": "8dc0cb1a",
   "metadata": {},
   "outputs": [],
   "source": [
    "# Feature Engineering\n",
    "newData = data.copy()\n",
    "\n",
    "# step\n",
    "newData['step_days'] = newData['step'].apply(lambda i: i/24)\n",
    "newData['step_weeks'] = newData['step'].apply(lambda i: i/(24*7))\n",
    "\n",
    "# difference between initial balance before the transaction and new balance after the transaction\n",
    "newData['diff_new_old_balance'] = newData['newbalance_orig'] - newData['oldbalance_org']\n",
    "\n",
    "# difference between initial balance recipient before the transaction and new balance recipient after the transaction.\n",
    "newData['diff_new_old_destiny'] = newData['newbalance_dest'] - newData['oldbalance_dest']\n",
    "\n",
    "# name orig and name dest\n",
    "newData['name_orig'] = newData['name_orig'].apply(lambda i: i[0])\n",
    "newData['name_dest'] = newData['name_dest'].apply(lambda i: i[0])"
   ]
  },
  {
   "cell_type": "code",
   "execution_count": 9,
   "id": "59cbf05c",
   "metadata": {},
   "outputs": [],
   "source": [
    "# Splitting Data into Train, Valid and Test\n",
    "X = newData.drop(columns=['is_fraud', 'is_flagged_fraud', 'name_orig', 'name_dest', \n",
    "                      'step_weeks', 'step_days'], axis=1)\n",
    "y = newData['is_fraud'].map({'yes': 1, 'no': 0})\n",
    "\n",
    "# spliting into temp and test\n",
    "X_temp, X_test, y_temp, y_test = train_test_split(X, y, test_size=.2, stratify=y)\n",
    "\n",
    "# spliting into train and valid\n",
    "X_train, X_valid, y_train, y_valid = train_test_split(X_temp, y_temp, test_size=.2, stratify=y_temp)"
   ]
  },
  {
   "cell_type": "code",
   "execution_count": 10,
   "id": "3da4a85b",
   "metadata": {},
   "outputs": [],
   "source": [
    "# One Hot Encoder\n",
    "ohe = OneHotEncoder(cols=['type'], use_cat_names=True)\n",
    "\n",
    "X_train = ohe.fit_transform(X_train)\n",
    "X_valid = ohe.transform(X_valid)\n",
    "\n",
    "X_temp = ohe.fit_transform(X_temp)\n",
    "X_test = ohe.transform(X_test)"
   ]
  },
  {
   "cell_type": "code",
   "execution_count": 11,
   "id": "9899488d",
   "metadata": {},
   "outputs": [],
   "source": [
    "# Rescaling\n",
    "num_columns = ['amount', 'oldbalance_org', 'newbalance_orig', 'oldbalance_dest', 'newbalance_dest',\n",
    "               'diff_new_old_balance', 'diff_new_old_destiny']\n",
    "mm = MinMaxScaler()\n",
    "X_params = X_temp.copy()\n",
    "\n",
    "X_train[num_columns] = mm.fit_transform(X_train[num_columns])\n",
    "X_valid[num_columns] = mm.transform(X_valid[num_columns])\n",
    "\n",
    "X_params[num_columns] = mm.fit_transform(X_temp[num_columns])\n",
    "X_test[num_columns] = mm.transform(X_test[num_columns])"
   ]
  },
  {
   "cell_type": "code",
   "execution_count": 12,
   "id": "a81f4fa4",
   "metadata": {},
   "outputs": [],
   "source": [
    "final_columns_selected = ['step', 'oldbalance_org', \n",
    "                          'newbalance_orig', 'newbalance_dest', \n",
    "                          'diff_new_old_balance', 'diff_new_old_destiny', \n",
    "                          'type_TRANSFER']"
   ]
  },
  {
   "cell_type": "code",
   "execution_count": 13,
   "id": "d5ea2cb5",
   "metadata": {},
   "outputs": [],
   "source": [
    "X_train_cs = X_train[final_columns_selected]\n",
    "X_valid_cs = X_valid[final_columns_selected]\n",
    "\n",
    "X_temp_cs = X_temp[final_columns_selected]\n",
    "X_test_cs = X_test[final_columns_selected]\n",
    "\n",
    "X_params_cs = X_params[final_columns_selected]"
   ]
  },
  {
   "cell_type": "markdown",
   "id": "e1a53123",
   "metadata": {},
   "source": [
    "## Logistic Regression\n",
    "\n",
    "Logistic Regression is a statistical and machine learning model used for binary classification problems, where the goal is to predict one of two possible outcomes (e.g., yes/no, true/false, 1/0) based on input features. It's named \"logistic\" because it uses the logistic function to model the probability that a given input belongs to a particular class."
   ]
  },
  {
   "cell_type": "code",
   "execution_count": 14,
   "id": "6af0267f",
   "metadata": {},
   "outputs": [],
   "source": [
    "lg = LogisticRegression(max_iter=200)\n",
    "lg.fit(X_train_cs, y_train)\n",
    "\n",
    "y_pred = lg.predict(X_valid_cs)"
   ]
  },
  {
   "cell_type": "code",
   "execution_count": 15,
   "id": "bc90afa8",
   "metadata": {},
   "outputs": [
    {
     "data": {
      "text/html": [
       "<div>\n",
       "<style scoped>\n",
       "    .dataframe tbody tr th:only-of-type {\n",
       "        vertical-align: middle;\n",
       "    }\n",
       "\n",
       "    .dataframe tbody tr th {\n",
       "        vertical-align: top;\n",
       "    }\n",
       "\n",
       "    .dataframe thead th {\n",
       "        text-align: right;\n",
       "    }\n",
       "</style>\n",
       "<table border=\"1\" class=\"dataframe\">\n",
       "  <thead>\n",
       "    <tr style=\"text-align: right;\">\n",
       "      <th></th>\n",
       "      <th>Balanced Accuracy</th>\n",
       "      <th>Precision</th>\n",
       "      <th>Recall</th>\n",
       "      <th>F1</th>\n",
       "      <th>Kappa</th>\n",
       "    </tr>\n",
       "  </thead>\n",
       "  <tbody>\n",
       "    <tr>\n",
       "      <th>Logistic Regression</th>\n",
       "      <td>0.655</td>\n",
       "      <td>0.947</td>\n",
       "      <td>0.31</td>\n",
       "      <td>0.467</td>\n",
       "      <td>0.466</td>\n",
       "    </tr>\n",
       "  </tbody>\n",
       "</table>\n",
       "</div>"
      ],
      "text/plain": [
       "                     Balanced Accuracy  Precision  Recall     F1  Kappa\n",
       "Logistic Regression              0.655      0.947    0.31  0.467  0.466"
      ]
     },
     "execution_count": 15,
     "metadata": {},
     "output_type": "execute_result"
    }
   ],
   "source": [
    "lg_results = ml_scores('Logistic Regression', y_valid, y_pred)\n",
    "lg_results"
   ]
  },
  {
   "cell_type": "code",
   "execution_count": 16,
   "id": "37a7ecb4",
   "metadata": {},
   "outputs": [
    {
     "name": "stdout",
     "output_type": "stream",
     "text": [
      "              precision    recall  f1-score   support\n",
      "\n",
      "           0       1.00      1.00      1.00   1016706\n",
      "           1       0.95      0.31      0.47      1314\n",
      "\n",
      "    accuracy                           1.00   1018020\n",
      "   macro avg       0.97      0.65      0.73   1018020\n",
      "weighted avg       1.00      1.00      1.00   1018020\n",
      "\n"
     ]
    }
   ],
   "source": [
    "# Classification Report\n",
    "print(classification_report(y_valid, y_pred))"
   ]
  },
  {
   "cell_type": "code",
   "execution_count": 17,
   "id": "cd896e58",
   "metadata": {},
   "outputs": [
    {
     "name": "stdout",
     "output_type": "stream",
     "text": [
      "Fold K=1\n",
      "Fold K=2\n",
      "Fold K=3\n",
      "Fold K=4\n",
      "Fold K=5\n"
     ]
    },
    {
     "data": {
      "text/html": [
       "<div>\n",
       "<style scoped>\n",
       "    .dataframe tbody tr th:only-of-type {\n",
       "        vertical-align: middle;\n",
       "    }\n",
       "\n",
       "    .dataframe tbody tr th {\n",
       "        vertical-align: top;\n",
       "    }\n",
       "\n",
       "    .dataframe thead th {\n",
       "        text-align: right;\n",
       "    }\n",
       "</style>\n",
       "<table border=\"1\" class=\"dataframe\">\n",
       "  <thead>\n",
       "    <tr style=\"text-align: right;\">\n",
       "      <th></th>\n",
       "      <th>Balanced Accuracy</th>\n",
       "      <th>Precision</th>\n",
       "      <th>Recall</th>\n",
       "      <th>F1</th>\n",
       "      <th>Kappa</th>\n",
       "    </tr>\n",
       "  </thead>\n",
       "  <tbody>\n",
       "    <tr>\n",
       "      <th>Logistic Regression</th>\n",
       "      <td>0.658 +/- 0.013000000000000001</td>\n",
       "      <td>0.9540000000000001 +/- 0.013000000000000001</td>\n",
       "      <td>0.316 +/- 0.026000000000000002</td>\n",
       "      <td>0.47400000000000003 +/- 0.03</td>\n",
       "      <td>0.47300000000000003 +/- 0.03</td>\n",
       "    </tr>\n",
       "  </tbody>\n",
       "</table>\n",
       "</div>"
      ],
      "text/plain": [
       "                                  Balanced Accuracy  \\\n",
       "Logistic Regression  0.658 +/- 0.013000000000000001   \n",
       "\n",
       "                                                       Precision  \\\n",
       "Logistic Regression  0.9540000000000001 +/- 0.013000000000000001   \n",
       "\n",
       "                                             Recall  \\\n",
       "Logistic Regression  0.316 +/- 0.026000000000000002   \n",
       "\n",
       "                                               F1  \\\n",
       "Logistic Regression  0.47400000000000003 +/- 0.03   \n",
       "\n",
       "                                            Kappa  \n",
       "Logistic Regression  0.47300000000000003 +/- 0.03  "
      ]
     },
     "execution_count": 17,
     "metadata": {},
     "output_type": "execute_result"
    }
   ],
   "source": [
    "# Cross Validation\n",
    "lg_cv = ml_cv_results('Logistic Regression',\n",
    "                      LogisticRegression(), \n",
    "                      X_temp_cs, y_temp)\n",
    "lg_cv"
   ]
  }
 ],
 "metadata": {
  "kernelspec": {
   "display_name": "conda_python3",
   "language": "python",
   "name": "conda_python3"
  },
  "language_info": {
   "codemirror_mode": {
    "name": "ipython",
    "version": 3
   },
   "file_extension": ".py",
   "mimetype": "text/x-python",
   "name": "python",
   "nbconvert_exporter": "python",
   "pygments_lexer": "ipython3",
   "version": "3.10.12"
  }
 },
 "nbformat": 4,
 "nbformat_minor": 5
}
